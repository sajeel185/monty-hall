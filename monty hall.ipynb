{
 "cells": [
  {
   "cell_type": "markdown",
   "metadata": {},
   "source": [
    "## Monty Hall Paradox\n",
    "\n",
    "Monty hall is an example of conditional probability because the second action, in this case the host opening a door, is dependant upon which door the contestant initially picks.\n",
    "\n",
    "Bayes Theorem takes into consideration this new information (the action of the host) and calculates the conditional probability.  So we could setup Bayes Theorem as P(A given B), where A is the probability of the car being behind door number 1. B can be the \"given condition or additional info\", that the host opens door number 2 and it is a goat. "
   ]
  }
 ],
 "metadata": {
  "kernelspec": {
   "display_name": "Python 3",
   "language": "python",
   "name": "python3"
  },
  "language_info": {
   "codemirror_mode": {
    "name": "ipython",
    "version": 3
   },
   "file_extension": ".py",
   "mimetype": "text/x-python",
   "name": "python",
   "nbconvert_exporter": "python",
   "pygments_lexer": "ipython3",
   "version": "3.7.0"
  }
 },
 "nbformat": 4,
 "nbformat_minor": 2
}
